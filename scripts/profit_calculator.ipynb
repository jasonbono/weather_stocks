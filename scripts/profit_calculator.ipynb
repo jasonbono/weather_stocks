{
 "cells": [
  {
   "cell_type": "markdown",
   "metadata": {},
   "source": [
    "# profit_calculator\n",
    "This script provides simulated performance for investment strategies that are based on the measured stock-weather correlations"
   ]
  },
  {
   "cell_type": "code",
   "execution_count": 77,
   "metadata": {},
   "outputs": [],
   "source": [
    "import random\n",
    "import numpy as np\n",
    "import matplotlib.pyplot as plt"
   ]
  },
  {
   "cell_type": "markdown",
   "metadata": {},
   "source": [
    "## Model the cumulative benefit of trading on good weather in a flat-market scenario \n",
    "### a function that returns relative profit"
   ]
  },
  {
   "cell_type": "code",
   "execution_count": 78,
   "metadata": {},
   "outputs": [],
   "source": [
    "def niave_profit(spread, bad_day_frac, n_years):\n",
    "    \"\"\"\n",
    "    Input: \n",
    "        - the spread between good days and all days\n",
    "        - the faction of bad days (assumes weather autocorrelation is zero)\n",
    "        - the number of years an investor uses the strategy\n",
    "    Returns: total profit\n",
    "    \"\"\"\n",
    "    investment = 1.0\n",
    "    total = investment\n",
    "    invested = False\n",
    "    days = int(n_years*251)\n",
    "    for i in range(days):    \n",
    "        random.seed(i)\n",
    "        r = random.random()\n",
    "        #buy on the bad days, if not invested\n",
    "        if( (r<bad_day_frac) & (not invested)):\n",
    "            invested = True\n",
    "            \n",
    "        #sell on the good days, if invested\n",
    "        if((r>bad_day_frac) & (invested)):\n",
    "            total = total*(1 + spread)\n",
    "            invested = False\n",
    "    profit = (total - investment)*100.0/investment\n",
    "    return profit"
   ]
  },
  {
   "cell_type": "markdown",
   "metadata": {},
   "source": [
    "### setup and call the function for various investing periods, storing the results"
   ]
  },
  {
   "cell_type": "code",
   "execution_count": 79,
   "metadata": {},
   "outputs": [],
   "source": [
    "#spread is difference between mean gains good weather and all days\n",
    "spread = (0.0667 - 0.0298)/100.0 \n",
    "#assume good weather occurs 25% of the time\n",
    "bad_day_frac = 0.5\n",
    "#set trading\n",
    "maxyears = 40\n",
    "years  = np.arange(maxyears)\n",
    "profits = np.zeros(maxyears)\n",
    "profits2 = np.zeros(maxyears)\n",
    "for y in years:\n",
    "    profits[y] = niave_profit(spread,bad_day_frac,y)"
   ]
  },
  {
   "cell_type": "markdown",
   "metadata": {},
   "source": [
    "### plot the results"
   ]
  },
  {
   "cell_type": "code",
   "execution_count": 80,
   "metadata": {},
   "outputs": [
    {
     "data": {
      "image/png": "[encoded data removed]",
      "text/plain": [
       "<Figure size 864x504 with 1 Axes>"
      ]
     },
     "metadata": {
      "needs_background": "light"
     },
     "output_type": "display_data"
    }
   ],
   "source": [
    "plt.figure(figsize=(12, 7))\n",
    "plt.title(\"Niave flat-market model without stochasticity\",fontsize=20)\n",
    "plt.ylabel('Percent Profit',fontsize=16)\n",
    "plt.xlabel(\"Years Investing\",fontsize=16)\n",
    "p = plt.scatter(years, profits, label='new good weather',c='deepskyblue',marker='o',s=60)\n",
    "# plt.scatter(years, profits2, label='new good weather',c='black',marker='o',s=60)"
   ]
  },
  {
   "cell_type": "markdown",
   "metadata": {},
   "source": [
    "## A more realistic model (in progress...)"
   ]
  },
  {
   "cell_type": "code",
   "execution_count": 81,
   "metadata": {},
   "outputs": [],
   "source": [
    "import random\n",
    "def investment_simulator(n_years,bad_day_frac=0.5):\n",
    "\n",
    "    if(n_years ==0):\n",
    "        return 0\n",
    "    \n",
    "    #there are 251 trading days per year\n",
    "    n_days = int(n_years*251)\n",
    "    \n",
    "    \n",
    "    #get randomly generated days of good or bad weather\n",
    "    good_weather = np.zeros(n_days+1, dtype=bool)\n",
    "    days  = np.arange(n_days+1)\n",
    "    for d in days:\n",
    "        random.seed(d)\n",
    "        r = random.random()\n",
    "        if r>bad_day_frac:\n",
    "            good_weather[d] = True\n",
    "     \n",
    "    #investment straegyL\n",
    "    days  = np.arange(n_days)\n",
    "    invested = False #start uninvested\n",
    "    total = 1 #start with  initial capital of 1\n",
    "    for d in days:\n",
    "        \n",
    "        #do nothing if today and tomorrow are bad\n",
    "        if (not good_weather[d] and not good_weather[d+1]) :\n",
    "            pass\n",
    "        \n",
    "        #buy on the bad days if tomrrow is good and \n",
    "        if (not good_weather[d] and not good_weather[d+1] and not invested) :\n",
    "            #by def, the gain/loss in the buy is zero, at first\n",
    "            #you can modify this to a positive number to introduce brokers fees\n",
    "            buy = 0\n",
    "            invested = True\n",
    "            \n",
    "        #if today and tomorrow are good weather stay invested (realize gains then reinvest)\n",
    "        if (good_weather[d] and good_weather[d+1] and invested):\n",
    "            #the gain today is randomly pulled from the histogram of price movements of good days\n",
    "            sell = df_clean_good['PercentChange'].sample(n=1,).values[0]\n",
    "#             sell = 1.0\n",
    "            gain = sell - buy\n",
    "            total = total*(1.0+gain)\n",
    "            \n",
    "        #sell on good days, if tomrrow is bad\n",
    "        if (good_weather[d] and not good_weather[d+1] and invested) :\n",
    "            sell = df_clean_good['PercentChange'].sample(n=1,).values[0]\n",
    "#             sell = 1.0\n",
    "            gain = sell - buy\n",
    "            total = total*(1.0+gain)\n",
    "            invested = False\n",
    "        print(total)\n",
    "    return total"
   ]
  },
  {
   "cell_type": "markdown",
   "metadata": {},
   "source": [
    "## Random Tests"
   ]
  },
  {
   "cell_type": "code",
   "execution_count": 85,
   "metadata": {},
   "outputs": [],
   "source": [
    "def test_sim(spread, bad_day_frac, n_years):\n",
    "    investment = 1.0\n",
    "    total = investment\n",
    "    invested = False\n",
    "    days = int(n_years*251)\n",
    "    \n",
    "    for i in range(days):    \n",
    "        random.seed(i)\n",
    "        r = random.random()\n",
    "#         print('day',i)\n",
    "        #buy on the bad days, if not invested\n",
    "        if( (r<bad_day_frac) & (not invested)):\n",
    "            #buy action\n",
    "            invested = True\n",
    "#             print(\"buy!\")\n",
    "        \n",
    "        #sell on the good days, if invested\n",
    "        if((r>bad_day_frac) & (invested)):\n",
    "            #sell actions\n",
    "            total = total*(1 + spread)\n",
    "            invested = False\n",
    "#             print(\"sell!\")\n",
    "#         print(\"total=\",total,'\\n')\n",
    "        \n",
    "    profit = (total - investment)*100.0/investment\n",
    "    return profit"
   ]
  },
  {
   "cell_type": "code",
   "execution_count": 84,
   "metadata": {},
   "outputs": [],
   "source": [
    "days = 1000\n",
    "daily_gain = 0.5\n",
    "total = 1\n",
    "for i in range(days):  \n",
    "    r = random.random()\n",
    "    if (r > 0.1):\n",
    "        movement = daily_gain\n",
    "    else: \n",
    "        movement = -daily_gain\n",
    "    total = total*(1+movement)\n",
    "#     print(total)"
   ]
  },
  {
   "cell_type": "code",
   "execution_count": null,
   "metadata": {},
   "outputs": [],
   "source": []
  },
  {
   "cell_type": "code",
   "execution_count": null,
   "metadata": {},
   "outputs": [],
   "source": []
  },
  {
   "cell_type": "code",
   "execution_count": null,
   "metadata": {},
   "outputs": [],
   "source": []
  }
 ],
 "metadata": {
  "kernelspec": {
   "display_name": "Python 3",
   "language": "python",
   "name": "python3"
  },
  "language_info": {
   "codemirror_mode": {
    "name": "ipython",
    "version": 3
   },
   "file_extension": ".py",
   "mimetype": "text/x-python",
   "name": "python",
   "nbconvert_exporter": "python",
   "pygments_lexer": "ipython3",
   "version": "3.7.3"
  }
 },
 "nbformat": 4,
 "nbformat_minor": 2
}
