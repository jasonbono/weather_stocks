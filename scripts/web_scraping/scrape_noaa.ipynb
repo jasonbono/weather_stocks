{
 "cells": [
  {
   "cell_type": "markdown",
   "metadata": {},
   "source": [
    "# scrape_noaa\n",
    "This script scrapes the data from noaa's api, formats it, and stores it as a dataframe in a pickel file for further analysis elsewhere\n",
    "\n",
    "### Basic setup"
   ]
  },
  {
   "cell_type": "code",
   "execution_count": 5,
   "metadata": {},
   "outputs": [],
   "source": [
    "#needed to make web requests\n",
    "import requests\n",
    "import pandas as pd\n",
    "import json\n",
    "import numpy as np\n",
    "from datetime import datetime\n",
    "import io\n",
    "basedir = '/Users/bono/demo_projects/weather_stocks/'"
   ]
  },
  {
   "cell_type": "markdown",
   "metadata": {},
   "source": [
    "### Load my tool to make scraping noaa data eaiser"
   ]
  },
  {
   "cell_type": "code",
   "execution_count": 6,
   "metadata": {},
   "outputs": [],
   "source": [
    "import sys\n",
    "sys.path.append(basedir+\"src\") # go to parent dir\n",
    "from noaa_scrape_tool import get_noaa_data as gnd"
   ]
  },
  {
   "cell_type": "code",
   "execution_count": 10,
   "metadata": {},
   "outputs": [],
   "source": [
    "# uncomment to test\n",
    "# df = gnd(2019)\n",
    "# df.head()"
   ]
  },
  {
   "cell_type": "markdown",
   "metadata": {},
   "source": [
    "### Setup and make the api call with the loaded tool for whatever range of years\n",
    "note that each year must be called seperately (limitation of noaa api), hence the loop"
   ]
  },
  {
   "cell_type": "code",
   "execution_count": null,
   "metadata": {},
   "outputs": [],
   "source": [
    "start = 1950\n",
    "stop = 2019\n",
    "df = gnd(start)\n",
    "for year in range(start+1,stop+1):\n",
    "    print(\"getting data for\",year)\n",
    "    _df = gnd(year)\n",
    "    df = df.append(_df, ignore_index=False, sort=False)"
   ]
  },
  {
   "cell_type": "code",
   "execution_count": null,
   "metadata": {},
   "outputs": [],
   "source": [
    "#uncomment to check the columns included\n",
    "# cols = list(df.columns)\n",
    "# cols"
   ]
  },
  {
   "cell_type": "markdown",
   "metadata": {},
   "source": [
    "### pickle the full df"
   ]
  },
  {
   "cell_type": "code",
   "execution_count": null,
   "metadata": {},
   "outputs": [],
   "source": [
    "file = basedir+'data/df_weather_scrape.pkl'\n",
    "df.to_pickle(file)"
   ]
  }
 ],
 "metadata": {
  "kernelspec": {
   "display_name": "Python 3",
   "language": "python",
   "name": "python3"
  },
  "language_info": {
   "codemirror_mode": {
    "name": "ipython",
    "version": 3
   },
   "file_extension": ".py",
   "mimetype": "text/x-python",
   "name": "python",
   "nbconvert_exporter": "python",
   "pygments_lexer": "ipython3",
   "version": "3.7.3"
  }
 },
 "nbformat": 4,
 "nbformat_minor": 2
}
